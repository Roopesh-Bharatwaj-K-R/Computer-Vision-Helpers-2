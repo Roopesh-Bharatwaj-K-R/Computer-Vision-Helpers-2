{
 "cells": [
  {
   "cell_type": "code",
   "execution_count": 1,
   "metadata": {},
   "outputs": [
    {
     "name": "stderr",
     "output_type": "stream",
     "text": [
      "2022-04-07 10:13:36.761810: I tensorflow/stream_executor/platform/default/dso_loader.cc:53] Successfully opened dynamic library libcudart.so.11.0\n",
      "2022-04-07 10:13:42.405204: I tensorflow/stream_executor/platform/default/dso_loader.cc:53] Successfully opened dynamic library libcuda.so.1\n",
      "2022-04-07 10:13:42.438682: I tensorflow/stream_executor/cuda/cuda_gpu_executor.cc:937] successful NUMA node read from SysFS had negative value (-1), but there must be at least one NUMA node, so returning NUMA node zero\n",
      "2022-04-07 10:13:42.438933: I tensorflow/core/common_runtime/gpu/gpu_device.cc:1733] Found device 0 with properties: \n",
      "pciBusID: 0000:09:00.0 name: NVIDIA GeForce RTX 2080 Ti computeCapability: 7.5\n",
      "coreClock: 1.545GHz coreCount: 68 deviceMemorySize: 10.76GiB deviceMemoryBandwidth: 573.69GiB/s\n",
      "2022-04-07 10:13:42.438993: I tensorflow/stream_executor/cuda/cuda_gpu_executor.cc:937] successful NUMA node read from SysFS had negative value (-1), but there must be at least one NUMA node, so returning NUMA node zero\n",
      "2022-04-07 10:13:42.439213: I tensorflow/core/common_runtime/gpu/gpu_device.cc:1733] Found device 1 with properties: \n",
      "pciBusID: 0000:41:00.0 name: NVIDIA GeForce RTX 2080 Ti computeCapability: 7.5\n",
      "coreClock: 1.545GHz coreCount: 68 deviceMemorySize: 10.75GiB deviceMemoryBandwidth: 573.69GiB/s\n",
      "2022-04-07 10:13:42.439239: I tensorflow/stream_executor/platform/default/dso_loader.cc:53] Successfully opened dynamic library libcudart.so.11.0\n",
      "2022-04-07 10:13:42.494127: I tensorflow/stream_executor/platform/default/dso_loader.cc:53] Successfully opened dynamic library libcublas.so.11\n",
      "2022-04-07 10:13:42.494204: I tensorflow/stream_executor/platform/default/dso_loader.cc:53] Successfully opened dynamic library libcublasLt.so.11\n",
      "2022-04-07 10:13:42.536254: I tensorflow/stream_executor/platform/default/dso_loader.cc:53] Successfully opened dynamic library libcufft.so.10\n",
      "2022-04-07 10:13:42.549071: I tensorflow/stream_executor/platform/default/dso_loader.cc:53] Successfully opened dynamic library libcurand.so.10\n",
      "2022-04-07 10:13:42.552412: I tensorflow/stream_executor/platform/default/dso_loader.cc:53] Successfully opened dynamic library libcusolver.so.11\n",
      "2022-04-07 10:13:42.566597: I tensorflow/stream_executor/platform/default/dso_loader.cc:53] Successfully opened dynamic library libcusparse.so.11\n",
      "2022-04-07 10:13:42.566893: W tensorflow/stream_executor/platform/default/dso_loader.cc:64] Could not load dynamic library 'libcudnn.so.8'; dlerror: libcudnn.so.8: cannot open shared object file: No such file or directory; LD_LIBRARY_PATH: /home/roopesh/catkin_ws/devel/lib:/opt/ros/noetic/lib:/opt/ros/noetic/lib/x86_64-linux-gnu\n",
      "2022-04-07 10:13:42.566911: W tensorflow/core/common_runtime/gpu/gpu_device.cc:1766] Cannot dlopen some GPU libraries. Please make sure the missing libraries mentioned above are installed properly if you would like to use GPU. Follow the guide at https://www.tensorflow.org/install/gpu for how to download and setup the required libraries for your platform.\n",
      "Skipping registering GPU devices...\n",
      "2022-04-07 10:13:42.567388: I tensorflow/core/platform/cpu_feature_guard.cc:142] This TensorFlow binary is optimized with oneAPI Deep Neural Network Library (oneDNN) to use the following CPU instructions in performance-critical operations:  AVX2 FMA\n",
      "To enable them in other operations, rebuild TensorFlow with the appropriate compiler flags.\n",
      "2022-04-07 10:13:42.569132: I tensorflow/core/common_runtime/gpu/gpu_device.cc:1258] Device interconnect StreamExecutor with strength 1 edge matrix:\n",
      "2022-04-07 10:13:42.569145: I tensorflow/core/common_runtime/gpu/gpu_device.cc:1264]      \n"
     ]
    }
   ],
   "source": [
    "import cv2\n",
    "import cv_exp.basic\n",
    "import cv_exp.basic as cv\n",
    "import cv_exp.pupil_detection as pupil_detection\n",
    "import cv_exp.draw as draw\n",
    "import cv_exp.log as log\n",
    "import cv_exp.take as take\n",
    "import numpy as np\n",
    "import warnings\n",
    "warnings.filterwarnings(\"ignore\")\n",
    "import os\n",
    "from PIL import Image\n",
    "import pandas as pd\n",
    "from scipy.cluster.vq import kmeans, vq\n",
    "import matplotlib.pyplot as plt\n",
    "import plotly.express as px\n",
    "\n",
    "\n",
    "model_face_detection = '/home/roopesh/Desktop/MediaPipe_new_cv_exp/cv-exp-framework-master/data/models/face_detection_front.tflite'\n",
    "model_face_landmarks ='/home/roopesh/Desktop/MediaPipe_new_cv_exp/cv-exp-framework-master/data/models/face_landmark.tflite'\n",
    "model_iris_landmarks = '/home/roopesh/Desktop/MediaPipe_new_cv_exp/cv-exp-framework-master/data/models/iris_landmark.tflite'\n",
    "\n",
    "iris_detector = pupil_detection.IrisDetectorMP(model_face_detection_path=model_face_detection,\n",
    "                                                   model_face_landmarks_path=model_face_landmarks,\n",
    "                                                   model_iris_landmarks_path=model_iris_landmarks)\n",
    "\n",
    "# def Mediapipe_Iris_Color(path):\n",
    "#     '''\n",
    "#     This function takes the image in path and Using Mediapipe calculates the Annular Mask of the images,\n",
    "#     then calculates the HSV color of Annular mask.\n",
    "#     and returns the dominant Iris colour percentage in a data frame.\n",
    "#     '''\n",
    "\n",
    "path='/home/roopesh/Desktop/New_Corpus/Brown/front (3).jpg'\n",
    "\n",
    "image = cv2.imread(path)\n",
    "image_bgr_rgb = cv2.cvtColor(image, cv2.COLOR_RGB2BGR)  # converting from BGR to RGB\n",
    "out_ = image_bgr_rgb.copy()\n",
    "out_pupile_ = image_bgr_rgb.copy()\n",
    "result = iris_detector.detect(image_bgr_rgb)\n",
    "\n",
    "if not result is None:\n",
    "\n",
    "    detected_pupils = result.detected_pupils,\n",
    "    face_rect_detection = result.face_rect_detection_from_landmarks,\n",
    "    face_rect_landmarks = result.face_rect_from_landmarks,\n",
    "    face_landmarks = result.face_landmarks,\n",
    "    face_rect_detection_from = result.face_rect_from_detection,\n",
    "    face_landmarks_from_detection = result.face_landmarks_from_detection,\n",
    "    left_iris_landmarks = result.left_iris_landmarks,\n",
    "    left_eyelid_landmarks = result.left_eyelid_landmarks,\n",
    "    right_iris_landmarks = result.right_iris_landmarks,\n",
    "    right_eyelid_landmarks = result.right_eyelid_landmarks,\n",
    "    left_iris_segmentation = result.left_iris_segmentation,\n",
    "    right_iris_segmentation = result.right_iris_segmentation,\n",
    "    eyes_landmarks = result.eyes_landmarks\n",
    "\n",
    "    # drawing\n",
    "\n",
    "    # out_pupile_ = draw.draw_pupils(out_pupile, result.detected_pupils.left, result.detected_pupils.right, color_center = (255, 255, 255), color_contour = (255, 255, 255))\n",
    "    # out_pupile_ = draw.draw_rect(out_pupile_, result.face_rect_detection_from_landmarks, thickness=6, color=(255, 0, 0))\n",
    "    # out_pupile_ = draw.draw_list_pointd(out_pupile_, result.left_iris_landmarks,radius=6,color = (255, 255, 255))\n",
    "    # out_pupile_= draw.draw_contour(out_pupile_, result.left_iris_segmentation,  thickness=1,color=(0, 0, 255))\n",
    "    # out_pupile_ = draw.draw_list_pointd(out_pupile_, result.left_eyelid_landmarks,radius=6,color = (255, 0, 0))\n",
    "\n",
    "    # Extraction of specific Points From Left Iris Landmarks (0,1) : Left Iris from Coder's Point of view\n",
    "\n",
    "    left_iris_tuple_of_tuple_Tolist = ([PointD_elements for PointD in left_iris_landmarks for PointD_elements in PointD])\n",
    "    left_iris_points = [(pointD.x, pointD.y) for pointD in left_iris_tuple_of_tuple_Tolist]\n",
    "\n",
    "    center_point_LeftIris=(np.round(left_iris_points[0]))\n",
    "    for left_center_x,left_center_y in [center_point_LeftIris]:\n",
    "         lx, ly = left_center_x,left_center_y\n",
    "\n",
    "    left_point_LeftIris=(np.round(left_iris_points[1]))\n",
    "    for leftIris_left_x,LeftIris_left_y in [left_point_LeftIris]:\n",
    "        LIL_x, LIL_y = leftIris_left_x, LeftIris_left_y\n",
    "\n",
    "    right_point_LeftIris=(np.round(left_iris_points[3]))\n",
    "    for rightIris_x,rightIris_y in [right_point_LeftIris]:\n",
    "        RIL_x, RIL_y = rightIris_x, rightIris_y\n",
    "\n",
    "    Top_point_LeftIris=(np.round(left_iris_points[2]))\n",
    "    for TopIris_x,TopIris_y in [Top_point_LeftIris]:\n",
    "        TI_x, TI_y = TopIris_x, TopIris_y\n",
    "\n",
    "    Bottom_point_LeftIris=(np.round(left_iris_points[4]))\n",
    "    for BottomIris_x,BottomIris_y in [Bottom_point_LeftIris]:\n",
    "        BI_x, BI_y = BottomIris_x, BottomIris_y\n",
    "        \n",
    "\n",
    "\n",
    "\n",
    "\n"
   ]
  },
  {
   "cell_type": "code",
   "execution_count": 2,
   "metadata": {},
   "outputs": [],
   "source": [
    "# Distance Formula to calculate the distance between center to left_Iris_ points to get radius of iris\n",
    "distance_left_iris_center = np.sqrt((lx - LIL_x) ** 2 + (ly - LIL_y) ** 2)\n",
    "\n",
    "# First Circular mask for entire iris\n",
    "\n",
    "mask = np.zeros(out_pupile_.shape, dtype=np.uint8)      # Result from Mediapipe added here.\n",
    "center= (int(lx),int(ly))\n",
    "radius = (int((distance_left_iris_center) * 0.80))\n",
    "left_mask = cv2.circle(mask, center, radius,[255,255,255], -1 )\n",
    "result = cv2.bitwise_and(out_pupile_, left_mask)\n",
    "result[mask == 0] = 255                                 # adding background Color- white\n",
    "\n",
    "# cropping iris area from the first circular masked image\n",
    "\n",
    "x= int((RIL_x)+3)       # x-axis --Landmarks points from top- right point from left iris, +3 for adjusting the size\n",
    "y= int((TI_y)+3)        # y-axis --Landmarks points from top_ left of left iris, +3 for adjusting the size\n",
    "h= int(radius*2.35)-3   # height --Radius of iris times 2.35 for adjustment,-3 for adjustment\n",
    "w=int(radius*2.35)    # width  --Radius of iris times 2.35 for adjustment, -1 for adjustment\n",
    "crop = result[y:y+h, x:x+w]\n",
    "\n",
    "# second Circular mask to take inner pupil area alone\n",
    "\n",
    "mask1 = np.zeros(out_pupile_.shape, dtype=np.uint8)     # Result from Mediapipe added here for second mask.\n",
    "center1= (int(lx),int(ly))\n",
    "radius1 = (int((distance_left_iris_center)* 0.50))      # to scrap pupil area and other reflection area\n",
    "left_mask1 = cv2.circle(mask1, center1, radius1, (255, 255, 255), -1 )\n",
    "result1 = cv2.bitwise_and(out_pupile_, left_mask1-255)  # subtracting white region over masked area\n",
    "result1[mask1==0] = 255                                 # adding background Color- white\n",
    "\n",
    "# Cropping the inner pupil area from the second circular masked image (size should be same as the first masked and cropped result )\n",
    "\n",
    "x= int(RIL_x)+3         # x-axis --Landmarks points from top- right point from left iris, +3 for adjusting the size\n",
    "y= int(TI_y)+3          # y-axis --Landmarks points from top_ left of left iris, +3 for adjusting the size\n",
    "h= int(radius*2.35)-3   # height --Radius of iris times 2.35,-3 for adjustment\n",
    "w=int(radius*2.35)    # width  --Radius of iris times 2.35, -1 for adjustment\n",
    "crop1 = result1[y:y+h, x:x+w]\n",
    "\n",
    "# Bitwise and operation to omit the inner pupil alone and take the rest of the iris area\n",
    "\n",
    "adding_both_cropped_image = cv2.bitwise_and(crop, crop1)\n",
    "\n",
    "# Removing NOISE from the Adding_both_cropped_image (<=10,  >=240) in all channel\n",
    "\n",
    "final_result = np.array(adding_both_cropped_image)\n",
    "mask = np.all(final_result <= [10, 10, 10], axis=2)\n",
    "final_result[mask] = [0, 0, 0]\n",
    "mask = np.all(final_result >= [240, 240, 240], axis=2)\n",
    "final_result[mask] = [0, 0, 0]\n",
    "annular_result = final_result                   # the final result of the iris area from mediapipe"
   ]
  },
  {
   "cell_type": "code",
   "execution_count": 3,
   "metadata": {},
   "outputs": [
    {
     "data": {
      "text/plain": [
       "<matplotlib.image.AxesImage at 0x7fe1b4038e20>"
      ]
     },
     "execution_count": 3,
     "metadata": {},
     "output_type": "execute_result"
    },
    {
     "data": {
      "image/png": "[encoded data removed]",
      "text/plain": [
       "<Figure size 432x288 with 1 Axes>"
      ]
     },
     "metadata": {
      "needs_background": "light"
     },
     "output_type": "display_data"
    }
   ],
   "source": [
    "plt.imshow(final_result)     "
   ]
  },
  {
   "cell_type": "code",
   "execution_count": 4,
   "metadata": {},
   "outputs": [
    {
     "data": {
      "text/plain": [
       "(130, 133)"
      ]
     },
     "execution_count": 4,
     "metadata": {},
     "output_type": "execute_result"
    }
   ],
   "source": [
    "final_result.shape[:2]"
   ]
  },
  {
   "cell_type": "code",
   "execution_count": 5,
   "metadata": {},
   "outputs": [
    {
     "name": "stdout",
     "output_type": "stream",
     "text": [
      "65 66\n"
     ]
    },
    {
     "data": {
      "text/plain": [
       "65"
      ]
     },
     "execution_count": 5,
     "metadata": {},
     "output_type": "execute_result"
    }
   ],
   "source": [
    "x,y=final_result.shape[:2]\n",
    "x,y\n",
    "# finding center points \n",
    "cx,cy=(x//2,y//2)\n",
    "print(cx,cy)\n",
    "# finding top points\n",
    "x//2"
   ]
  },
  {
   "cell_type": "code",
   "execution_count": 6,
   "metadata": {},
   "outputs": [],
   "source": [
    "# 4 quadrants split\n",
    "\n",
    "top_left=final_result[0:cy,0:cx]\n",
    "top_right=final_result[0:cy,0:cx]\n",
    "bottom_left=final_result[cy:h,0:cx]\n",
    "bottom_right=final_result[cy:h,cx:w]"
   ]
  },
  {
   "cell_type": "code",
   "execution_count": 7,
   "metadata": {},
   "outputs": [
    {
     "data": {
      "text/plain": [
       "<matplotlib.image.AxesImage at 0x7fe1ac782ee0>"
      ]
     },
     "execution_count": 7,
     "metadata": {},
     "output_type": "execute_result"
    },
    {
     "data": {
      "image/png": "[encoded data removed]",
      "text/plain": [
       "<Figure size 432x288 with 1 Axes>"
      ]
     },
     "metadata": {
      "needs_background": "light"
     },
     "output_type": "display_data"
    }
   ],
   "source": [
    "plt.imshow(top_left)"
   ]
  },
  {
   "cell_type": "markdown",
   "metadata": {},
   "source": [
    "# Horizontal Split"
   ]
  },
  {
   "cell_type": "markdown",
   "metadata": {},
   "source": [
    "#  Top"
   ]
  },
  {
   "cell_type": "code",
   "execution_count": 8,
   "metadata": {},
   "outputs": [
    {
     "data": {
      "text/plain": [
       "<matplotlib.image.AxesImage at 0x7fe1ac770fd0>"
      ]
     },
     "execution_count": 8,
     "metadata": {},
     "output_type": "execute_result"
    },
    {
     "data": {
      "image/png": "[encoded data removed]",
      "text/plain": [
       "<Figure size 432x288 with 1 Axes>"
      ]
     },
     "metadata": {
      "needs_background": "light"
     },
     "output_type": "display_data"
    }
   ],
   "source": [
    "half=x//2\n",
    "top_third_= x//3\n",
    "top=final_result[:half]\n",
    "plt.imshow(top)"
   ]
  },
  {
   "cell_type": "code",
   "execution_count": 9,
   "metadata": {},
   "outputs": [
    {
     "data": {
      "text/plain": [
       "<matplotlib.image.AxesImage at 0x7fe1ac6e10a0>"
      ]
     },
     "execution_count": 9,
     "metadata": {},
     "output_type": "execute_result"
    },
    {
     "data": {
      "image/png": "[encoded data removed]",
      "text/plain": [
       "<Figure size 432x288 with 1 Axes>"
      ]
     },
     "metadata": {
      "needs_background": "light"
     },
     "output_type": "display_data"
    }
   ],
   "source": [
    "top_third_= x//3\n",
    "top1=final_result[:top_third_]\n",
    "plt.imshow(top1)"
   ]
  },
  {
   "cell_type": "code",
   "execution_count": 10,
   "metadata": {},
   "outputs": [
    {
     "data": {
      "text/plain": [
       "<matplotlib.image.AxesImage at 0x7fe1ac6396a0>"
      ]
     },
     "execution_count": 10,
     "metadata": {},
     "output_type": "execute_result"
    },
    {
     "data": {
      "image/png": "[encoded data removed]",
      "text/plain": [
       "<Figure size 432x288 with 1 Axes>"
      ]
     },
     "metadata": {
      "needs_background": "light"
     },
     "output_type": "display_data"
    }
   ],
   "source": [
    "\n",
    "top_3=final_result[top_third_:half]\n",
    "plt.imshow(top_3)"
   ]
  },
  {
   "cell_type": "markdown",
   "metadata": {},
   "source": [
    "# Bottom"
   ]
  },
  {
   "cell_type": "code",
   "execution_count": 11,
   "metadata": {},
   "outputs": [
    {
     "data": {
      "text/plain": [
       "<matplotlib.image.AxesImage at 0x7fe1ac617c70>"
      ]
     },
     "execution_count": 11,
     "metadata": {},
     "output_type": "execute_result"
    },
    {
     "data": {
      "image/png": "[encoded data removed]",
      "text/plain": [
       "<Figure size 432x288 with 1 Axes>"
      ]
     },
     "metadata": {
      "needs_background": "light"
     },
     "output_type": "display_data"
    }
   ],
   "source": [
    "bottom=final_result[half:]\n",
    "plt.imshow(bottom)"
   ]
  },
  {
   "cell_type": "code",
   "execution_count": 12,
   "metadata": {},
   "outputs": [
    {
     "data": {
      "text/plain": [
       "(65, 133)"
      ]
     },
     "execution_count": 12,
     "metadata": {},
     "output_type": "execute_result"
    }
   ],
   "source": [
    "x1,y1=bottom.shape[:2]\n",
    "x1,y1"
   ]
  },
  {
   "cell_type": "code",
   "execution_count": 13,
   "metadata": {},
   "outputs": [
    {
     "ename": "NameError",
     "evalue": "name 'bo' is not defined",
     "output_type": "error",
     "traceback": [
      "\u001b[0;31m---------------------------------------------------------------------------\u001b[0m",
      "\u001b[0;31mNameError\u001b[0m                                 Traceback (most recent call last)",
      "Input \u001b[0;32mIn [13]\u001b[0m, in \u001b[0;36m<cell line: 3>\u001b[0;34m()\u001b[0m\n\u001b[1;32m      1\u001b[0m bottom_third\u001b[38;5;241m=\u001b[39mx1\u001b[38;5;241m/\u001b[39m\u001b[38;5;241m/\u001b[39m\u001b[38;5;241m3\u001b[39m\n\u001b[1;32m      2\u001b[0m bo_3\u001b[38;5;241m=\u001b[39mbottom[:bottom_third]\n\u001b[0;32m----> 3\u001b[0m plt\u001b[38;5;241m.\u001b[39mimshow(\u001b[43mbo\u001b[49m)\n",
      "\u001b[0;31mNameError\u001b[0m: name 'bo' is not defined"
     ]
    }
   ],
   "source": [
    "bottom_third=x1//3\n",
    "bo_3=bottom[:bottom_third]\n",
    "plt.imshow(bo)"
   ]
  },
  {
   "cell_type": "code",
   "execution_count": null,
   "metadata": {},
   "outputs": [],
   "source": [
    "half1=x1//3\n",
    "bo=bottom[half1:]\n",
    "plt.imshow(bo)"
   ]
  },
  {
   "cell_type": "markdown",
   "metadata": {},
   "source": [
    "# Combining top_third + bottom_third"
   ]
  },
  {
   "cell_type": "code",
   "execution_count": null,
   "metadata": {},
   "outputs": [],
   "source": [
    "# try-1 using opencv vconcat\n",
    "\n",
    "top_3,bo_3=(np.array(top_3),np.array(bo_3))\n",
    "combine=cv2.vconcat(top_3,bo_3)\n",
    "combine\n",
    "plt.imshow(combine)"
   ]
  },
  {
   "cell_type": "code",
   "execution_count": null,
   "metadata": {},
   "outputs": [],
   "source": [
    "# try-2 using numpy.vstack \n",
    "com=np.vstack((top_3,bo_3))\n",
    "plt.imshow(com)"
   ]
  },
  {
   "cell_type": "code",
   "execution_count": null,
   "metadata": {},
   "outputs": [],
   "source": [
    "lis=[]\n",
    "lis.append(top1)\n",
    "lis.append(bo)\n",
    "lis.append(com)"
   ]
  },
  {
   "cell_type": "code",
   "execution_count": 14,
   "metadata": {},
   "outputs": [
    {
     "ename": "NameError",
     "evalue": "name 'com' is not defined",
     "output_type": "error",
     "traceback": [
      "\u001b[0;31m---------------------------------------------------------------------------\u001b[0m",
      "\u001b[0;31mNameError\u001b[0m                                 Traceback (most recent call last)",
      "Input \u001b[0;32mIn [14]\u001b[0m, in \u001b[0;36m<cell line: 4>\u001b[0;34m()\u001b[0m\n\u001b[1;32m      1\u001b[0m dict1\u001b[38;5;241m=\u001b[39m\u001b[38;5;28mdict\u001b[39m()\n\u001b[1;32m      3\u001b[0m dict1[\u001b[38;5;124m'\u001b[39m\u001b[38;5;124mUpper_Third\u001b[39m\u001b[38;5;124m'\u001b[39m]\u001b[38;5;241m=\u001b[39m(top1)\n\u001b[0;32m----> 4\u001b[0m dict1[\u001b[38;5;124m'\u001b[39m\u001b[38;5;124mMiddle_Third\u001b[39m\u001b[38;5;124m'\u001b[39m]\u001b[38;5;241m=\u001b[39m(\u001b[43mcom\u001b[49m)\n\u001b[1;32m      5\u001b[0m dict1[\u001b[38;5;124m'\u001b[39m\u001b[38;5;124mLower_Third\u001b[39m\u001b[38;5;124m'\u001b[39m]\u001b[38;5;241m=\u001b[39m(bo)\n\u001b[1;32m      6\u001b[0m dict1\u001b[38;5;241m.\u001b[39mkeys()\n",
      "\u001b[0;31mNameError\u001b[0m: name 'com' is not defined"
     ]
    }
   ],
   "source": [
    "dict1=dict()\n",
    "\n",
    "dict1['Upper_Third']=(top1)\n",
    "dict1['Middle_Third']=(com)\n",
    "dict1['Lower_Third']=(bo)\n",
    "dict1.keys()\n",
    "# dict1.values()"
   ]
  },
  {
   "cell_type": "code",
   "execution_count": 15,
   "metadata": {},
   "outputs": [
    {
     "name": "stdout",
     "output_type": "stream",
     "text": [
      "Upper_Third\n"
     ]
    }
   ],
   "source": [
    "k=dict1.keys()\n",
    "v=dict1.values()\n",
    "for k,v  in dict1.items():\n",
    "    print(k)"
   ]
  },
  {
   "cell_type": "code",
   "execution_count": 17,
   "metadata": {},
   "outputs": [
    {
     "name": "stdout",
     "output_type": "stream",
     "text": [
      "                                                                  0\n",
      "File_name :       /home/roopesh/Desktop/New_Corpus/Brown/front (...\n",
      "Image Position :                                        Upper_Third\n",
      "Blue % :                                                        100\n",
      "Green % :                                                         0\n",
      "Brown % :                                                         0\n",
      "Other % :                                                         0\n"
     ]
    }
   ],
   "source": [
    "\n",
    "def rgb_to_hsv(r, g, b):\n",
    "    '''\n",
    "    Convert RGB to HSV\n",
    "    returns h,s,v\n",
    "    '''\n",
    "\n",
    "    r, g, b = r/255.0, g/255.0, b/255.0\n",
    "    mx = max(r, g, b)\n",
    "    mn = min(r, g, b)\n",
    "    df = mx-mn\n",
    "    if mx == mn:\n",
    "        h = 0\n",
    "    elif mx == r:\n",
    "        h = (60 * ((g-b)/df) + 360) % 360\n",
    "    elif mx == g:\n",
    "        h = (60 * ((b-r)/df) + 120) % 360\n",
    "    elif mx == b:\n",
    "        h = (60 * ((r-g)/df) + 240) % 360\n",
    "    if mx == 0:\n",
    "        s = 0\n",
    "    else:\n",
    "        s = (df/mx)*100\n",
    "    v = mx*100\n",
    "    return h, s, v\n",
    "\n",
    "\n",
    "\n",
    "for k, v in dict1.items():\n",
    "    pil_image = Image.fromarray(v)     # input from the annular_result read as array\n",
    "    imarray = np.array(pil_image.getdata())\n",
    "    df = pd.DataFrame(imarray, columns=['RED', 'GREEN', 'BLUE'])\n",
    "    df = pd.DataFrame(df[(df['RED'] >= 50) | (df['GREEN'] >= 50) | (df['BLUE'] >= 50)])  # For value greater than 50\n",
    "\n",
    "# K-Means Clustering using Scipy\n",
    "\n",
    "    cluster_size = 3\n",
    "    cluster_centers, _ = kmeans(df.values.astype(float), cluster_size)\n",
    "    index, _ = vq(df.values.astype(float), cluster_centers)\n",
    "    count = np.bincount(index)\n",
    "    sum = np.sum(count)\n",
    "    i, Blue, Green, Brown,Other = 0, 0, 0, 0, 0\n",
    "    for row in cluster_centers:\n",
    "        r = row[0]\n",
    "        g = row[1]\n",
    "        b = row[2]\n",
    "        h, s, v = rgb_to_hsv(r, g, b)   # calling the function to convert RGB to HSV\n",
    "        percent = count[i]*100/sum\n",
    "        if h >= 170 and h < 270:\n",
    "            Blue += percent\n",
    "        elif h >= 60 and h < 170:\n",
    "            Green += percent\n",
    "        elif h >= 300 or h < 40:\n",
    "            Brown += percent\n",
    "        else:\n",
    "            Other += percent\n",
    "        i+=1\n",
    "\n",
    "# Results of Dominant Color Detection in dataframe\n",
    "  \n",
    "\n",
    "    data = [[path, str(k), int(Blue), int(Green), int(Brown), int(Other)]]\n",
    "    dominantColour_ = pd.DataFrame(data, columns=['File_name :', 'Image Position :', 'Blue % :', 'Green % :', 'Brown % :','Other % :']).T\n",
    "\n",
    "print(dominantColour_)\n"
   ]
  },
  {
   "cell_type": "code",
   "execution_count": null,
   "metadata": {},
   "outputs": [],
   "source": []
  }
 ],
 "metadata": {
  "kernelspec": {
   "display_name": "newPython3.8",
   "language": "python",
   "name": "newpython3.8"
  },
  "language_info": {
   "codemirror_mode": {
    "name": "ipython",
    "version": 3
   },
   "file_extension": ".py",
   "mimetype": "text/x-python",
   "name": "python",
   "nbconvert_exporter": "python",
   "pygments_lexer": "ipython3",
   "version": "3.8.12"
  }
 },
 "nbformat": 4,
 "nbformat_minor": 4
}
