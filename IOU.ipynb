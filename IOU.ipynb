{
 "cells": [
  {
   "cell_type": "code",
   "execution_count": null,
   "metadata": {},
   "outputs": [
    {
     "name": "stdout",
     "output_type": "stream",
     "text": [
      "IOU OF THE BOXES IS:  0.6328125\n"
     ]
    }
   ],
   "source": [
    "import cv2\n",
    "\n",
    "def draw_box(frame, bbox, color=(255,0,0)):\n",
    "    x1, y1, x2, y2 = bbox\n",
    "    cv2.rectangle(frame, pt1=(x1, y1), pt2=(x2, y2), color=color, thickness=2)\n",
    "    return frame\n",
    "\n",
    "def IOU(box1, box2):\n",
    "    \"\"\" We assume that the box follows the format:\n",
    "        box1 = [x1,y1,x2,y2], and box2 = [x3,y3,x4,y4],\n",
    "        where (x1,y1) and (x3,y3) represent the top left coordinate,\n",
    "        and (x2,y2) and (x4,y4) represent the bottom right coordinate \"\"\"\n",
    "    \n",
    "    x1, y1, x2, y2 = box1\n",
    "    x3, y3, x4, y4 = box2\n",
    "    x_inter1 = max(x1, x3)\n",
    "    y_inter1 = max(y1, y3)\n",
    "    x_inter2 = min(x2, x4)\n",
    "    y_inter2 = min(y2, y4)\n",
    "    width_inter = abs(x_inter2 - x_inter1)\n",
    "    height_inter = abs(y_inter2 - y_inter1)\n",
    "    area_inter = width_inter * height_inter\n",
    "    width_box1 = abs(x2 - x1)\n",
    "    height_box1 = abs(y2 - y1)\n",
    "    width_box2 = abs(x4 - x3)\n",
    "    height_box2 = abs(y4 - y3)\n",
    "    area_box1 = width_box1 * height_box1\n",
    "    area_box2 = width_box2 * height_box2\n",
    "    area_union = area_box1 + area_box2 - area_inter\n",
    "    iou = area_inter / area_union\n",
    "    return iou\n",
    "\n",
    "def main():\n",
    "    bbox_cat1 = [130, 32, 450, 452]# Defining the coordinates of the first bounding box (x1,y1,x2,y2)\n",
    "    bbox_cat2 = [140, 42, 350, 447]# Defining the coordinates of the second bounding box (x3,y3,x4,y4)\n",
    "    img = cv2.imread('/home/roopesh/Desktop/New_Corpus/Brown/front (3).jpg')# Read the image \n",
    "    img = cv2.resize(img, (640, 480))# Resize the image to be displayed on the screen\n",
    "    img = draw_box(img,bbox_cat1,color=(0,255,0)) # Call the function to draw the first box\n",
    "    img = draw_box(img,bbox_cat2,color=(255,0,0)) # Call the function to draw the second box\n",
    "    iou = IOU(bbox_cat1, bbox_cat2)# Calling the function to return the IOU\n",
    "    img = cv2.putText(img, 'IOU: {}'.format(iou), (bbox_cat1[0], bbox_cat1[1]), cv2.FONT_HERSHEY_SIMPLEX , 1, \n",
    "    (255,0,0), 2, cv2.LINE_AA) # Draw the IOU on the image\n",
    "    print(\"IOU OF THE BOXES IS: \", iou)# Print the iou\n",
    "#     cv2.imshow(\"IMG\", img)# Show the image\n",
    "    cv2.imshow('io',iou)\n",
    "    cv2.waitKey() # Wait for any key to be pressed to exit\n",
    "   \n",
    "\n",
    "if __name__ == \"__main__\":\n",
    "    main()"
   ]
  },
  {
   "cell_type": "code",
   "execution_count": null,
   "metadata": {},
   "outputs": [],
   "source": []
  }
 ],
 "metadata": {
  "kernelspec": {
   "display_name": "newPython3.8",
   "language": "python",
   "name": "newpython3.8"
  },
  "language_info": {
   "codemirror_mode": {
    "name": "ipython",
    "version": 3
   },
   "file_extension": ".py",
   "mimetype": "text/x-python",
   "name": "python",
   "nbconvert_exporter": "python",
   "pygments_lexer": "ipython3",
   "version": "3.8.12"
  }
 },
 "nbformat": 4,
 "nbformat_minor": 4
}
