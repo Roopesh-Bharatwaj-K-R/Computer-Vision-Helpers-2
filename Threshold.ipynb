{
 "cells": [
  {
   "cell_type": "code",
   "execution_count": 1,
   "metadata": {},
   "outputs": [
    {
     "ename": "error",
     "evalue": "OpenCV(4.5.2) :-1: error: (-5:Bad argument) in function 'circle'\n> Overload resolution failed:\n>  - Can't parse 'center'. Sequence item with index 0 has a wrong type\n>  - Can't parse 'center'. Sequence item with index 0 has a wrong type\n",
     "output_type": "error",
     "traceback": [
      "\u001b[0;31m---------------------------------------------------------------------------\u001b[0m",
      "\u001b[0;31merror\u001b[0m                                     Traceback (most recent call last)",
      "Input \u001b[0;32mIn [1]\u001b[0m, in \u001b[0;36m<cell line: 17>\u001b[0;34m()\u001b[0m\n\u001b[1;32m     18\u001b[0m     i[\u001b[38;5;241m2\u001b[39m]\u001b[38;5;241m=\u001b[39mi[\u001b[38;5;241m2\u001b[39m]\u001b[38;5;241m+\u001b[39m\u001b[38;5;241m4\u001b[39m\n\u001b[1;32m     19\u001b[0m     \u001b[38;5;66;03m# Draw on mask\u001b[39;00m\n\u001b[0;32m---> 20\u001b[0m     \u001b[43mcv2\u001b[49m\u001b[38;5;241;43m.\u001b[39;49m\u001b[43mcircle\u001b[49m\u001b[43m(\u001b[49m\u001b[43mmask\u001b[49m\u001b[43m,\u001b[49m\u001b[43m(\u001b[49m\u001b[43mi\u001b[49m\u001b[43m[\u001b[49m\u001b[38;5;241;43m0\u001b[39;49m\u001b[43m]\u001b[49m\u001b[43m,\u001b[49m\u001b[43mi\u001b[49m\u001b[43m[\u001b[49m\u001b[38;5;241;43m1\u001b[39;49m\u001b[43m]\u001b[49m\u001b[43m)\u001b[49m\u001b[43m,\u001b[49m\u001b[43mi\u001b[49m\u001b[43m[\u001b[49m\u001b[38;5;241;43m2\u001b[39;49m\u001b[43m]\u001b[49m\u001b[43m,\u001b[49m\u001b[43m(\u001b[49m\u001b[38;5;241;43m255\u001b[39;49m\u001b[43m,\u001b[49m\u001b[38;5;241;43m255\u001b[39;49m\u001b[43m,\u001b[49m\u001b[38;5;241;43m255\u001b[39;49m\u001b[43m)\u001b[49m\u001b[43m,\u001b[49m\u001b[43mthickness\u001b[49m\u001b[38;5;241;43m=\u001b[39;49m\u001b[38;5;241;43m-\u001b[39;49m\u001b[38;5;241;43m1\u001b[39;49m\u001b[43m)\u001b[49m\n\u001b[1;32m     22\u001b[0m \u001b[38;5;66;03m# Copy that image using that mask\u001b[39;00m\n\u001b[1;32m     23\u001b[0m masked_data \u001b[38;5;241m=\u001b[39m cv2\u001b[38;5;241m.\u001b[39mbitwise_and(img1, img1, mask\u001b[38;5;241m=\u001b[39mmask)\n",
      "\u001b[0;31merror\u001b[0m: OpenCV(4.5.2) :-1: error: (-5:Bad argument) in function 'circle'\n> Overload resolution failed:\n>  - Can't parse 'center'. Sequence item with index 0 has a wrong type\n>  - Can't parse 'center'. Sequence item with index 0 has a wrong type\n"
     ]
    }
   ],
   "source": [
    "import cv2\n",
    "import numpy as np\n",
    "\n",
    "img1 = cv2.imread('/home/roopesh/Desktop/New_Corpus/Brown/front (3).jpg')\n",
    "img = cv2.imread('/home/roopesh/Desktop/New_Corpus/Brown/front (3).jpg',0)\n",
    "gray = cv2.cvtColor(img1, cv2.COLOR_BGR2GRAY)\n",
    "ret, thresh = cv2.threshold(gray, 50, 255, cv2.THRESH_BINARY)\n",
    "\n",
    "# Create mask\n",
    "height,width = img.shape\n",
    "mask = np.zeros((height,width), np.uint8)\n",
    "\n",
    "edges = cv2.Canny(thresh, 100, 200)\n",
    "#cv2.imshow('detected ',gray)\n",
    "cimg=cv2.cvtColor(img, cv2.COLOR_GRAY2BGR)\n",
    "circles = cv2.HoughCircles(edges, cv2.HOUGH_GRADIENT, 1, 10000, param1 = 50, param2 = 30, minRadius = 0, maxRadius = 0)\n",
    "for i in circles[0,:]:\n",
    "    i[2]=i[2]+4\n",
    "    # Draw on mask\n",
    "    cv2.circle(mask,(i[0],i[1]),i[2],(255,255,255),thickness=-1)\n",
    "\n",
    "# Copy that image using that mask\n",
    "masked_data = cv2.bitwise_and(img1, img1, mask=mask)\n",
    "\n",
    "# Apply Threshold\n",
    "_,thresh = cv2.threshold(mask,1,255,cv2.THRESH_BINARY)\n",
    "\n",
    "# Find Contour\n",
    "contours = cv2.findContours(thresh,cv2.RETR_EXTERNAL,cv2.CHAIN_APPROX_SIMPLE)\n",
    "x,y,w,h = cv2.boundingRect(contours[0])\n",
    "\n",
    "# Crop masked_data\n",
    "crop = masked_data[y:y+h,x:x+w]\n",
    "\n",
    "#Code to close Window\n",
    "cv2.imshow('detected Edge',img1)\n",
    "cv2.imshow('Cropped Eye',crop)\n",
    "cv2.waitKey(0)\n",
    "cv2.destroyAllWindows()"
   ]
  },
  {
   "cell_type": "code",
   "execution_count": null,
   "metadata": {},
   "outputs": [],
   "source": []
  }
 ],
 "metadata": {
  "kernelspec": {
   "display_name": "newPython3.8",
   "language": "python",
   "name": "newpython3.8"
  },
  "language_info": {
   "codemirror_mode": {
    "name": "ipython",
    "version": 3
   },
   "file_extension": ".py",
   "mimetype": "text/x-python",
   "name": "python",
   "nbconvert_exporter": "python",
   "pygments_lexer": "ipython3",
   "version": "3.8.12"
  }
 },
 "nbformat": 4,
 "nbformat_minor": 4
}
